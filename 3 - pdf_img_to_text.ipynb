{
 "cells": [
  {
   "cell_type": "code",
   "execution_count": 3,
   "metadata": {},
   "outputs": [],
   "source": [
    "import pdf2image\n",
    "import os, sys\n",
    "try:\n",
    "    from PIL import Image\n",
    "except ImportError:\n",
    "    import Image\n",
    "import pytesseract\n",
    "import tqdm\n",
    "\n",
    "PATH = os.getcwd()+'/Teste/'\n",
    "\n",
    "#initialize the counter that you will use later in your pdf extraction function\n",
    "i = 1\n",
    "\n",
    "def delete_ppms():\n",
    "    for file in os.listdir(PATH):\n",
    "         if '.ppm' in file or '.DS_Store' in file:\n",
    "            try:\n",
    "                os.remove(PATH + file)\n",
    "            except FileNotFoundError:\n",
    "                 pass             \n",
    "      \n",
    "def pdf_extract(file, i):\n",
    "  name_splited = file.split('.')  \n",
    "  file_name = name_splited[0] \n",
    "  if not file_name+'.txt' in os.listdir(PATH):  \n",
    "      print(\"extracting from file:\", file)\n",
    "      delete_ppms()\n",
    "      images = pdf2image.convert_from_path(PATH +file, output_folder=PATH)\n",
    "\n",
    "      j = 0\n",
    "      for file in tqdm.notebook.tqdm(sorted(os.listdir(PATH))):\n",
    "          if '.ppm' in file and 'image' not in file:\n",
    "            os.rename(PATH + file, PATH + 'image' + str(i) + '-' + str(j) + '.ppm')\n",
    "            j += 1\n",
    "      j = 0\n",
    "      f = open(PATH +'{}.txt'.format(file_name), 'w')\n",
    "      files = [f for f in os.listdir(PATH) if '.ppm' in f]\n",
    "\n",
    "      for file in tqdm.notebook.tqdm(sorted(files, key=lambda x: int(x[x.index('-') + 1: x.index('.')]))):\n",
    "          temp = pytesseract.image_to_string(Image.open(PATH + file))\n",
    "          f.write(temp)\n",
    "      f.close()\n",
    "  else:\n",
    "     print(\"Txt is exist for this file:\", file) "
   ]
  },
  {
   "cell_type": "code",
   "execution_count": 4,
   "metadata": {},
   "outputs": [
    {
     "name": "stderr",
     "output_type": "stream",
     "text": [
      "/opt/conda/lib/python3.7/site-packages/ipykernel_launcher.py:5: TqdmDeprecationWarning: This function will be removed in tqdm==5.0.0\n",
      "Please use `tqdm.notebook.tqdm` instead of `tqdm.tqdm_notebook`\n",
      "  \"\"\"\n"
     ]
    },
    {
     "data": {
      "application/vnd.jupyter.widget-view+json": {
       "model_id": "dc2645ecca3144d39e5bd458496a461f",
       "version_major": 2,
       "version_minor": 0
      },
      "text/plain": [
       "HBox(children=(HTML(value=''), FloatProgress(value=0.0, max=2.0), HTML(value='')))"
      ]
     },
     "metadata": {},
     "output_type": "display_data"
    },
    {
     "name": "stdout",
     "output_type": "stream",
     "text": [
      "\n"
     ]
    },
    {
     "name": "stderr",
     "output_type": "stream",
     "text": [
      "/opt/conda/lib/python3.7/site-packages/ipykernel_launcher.py:15: TqdmDeprecationWarning: This function will be removed in tqdm==5.0.0\n",
      "Please use `tqdm.notebook.tqdm` instead of `tqdm.tqdm_notebook`\n",
      "  from ipykernel import kernelapp as app\n"
     ]
    },
    {
     "data": {
      "application/vnd.jupyter.widget-view+json": {
       "model_id": "512d2a47e6e04a5ab903c004109972e7",
       "version_major": 2,
       "version_minor": 0
      },
      "text/plain": [
       "HBox(children=(HTML(value=''), FloatProgress(value=0.0, max=1.0), HTML(value='')))"
      ]
     },
     "metadata": {},
     "output_type": "display_data"
    },
    {
     "name": "stdout",
     "output_type": "stream",
     "text": [
      "extracting from file: modelo_cv_en.pdf\n"
     ]
    },
    {
     "data": {
      "application/vnd.jupyter.widget-view+json": {
       "model_id": "71913dd7e1f54fdcbbf76747370dd12d",
       "version_major": 2,
       "version_minor": 0
      },
      "text/plain": [
       "HBox(children=(HTML(value=''), FloatProgress(value=0.0, max=3.0), HTML(value='')))"
      ]
     },
     "metadata": {},
     "output_type": "display_data"
    },
    {
     "name": "stdout",
     "output_type": "stream",
     "text": [
      "\n"
     ]
    },
    {
     "data": {
      "application/vnd.jupyter.widget-view+json": {
       "model_id": "a93619bab711460d89d59568b5d327eb",
       "version_major": 2,
       "version_minor": 0
      },
      "text/plain": [
       "HBox(children=(HTML(value=''), FloatProgress(value=0.0, max=1.0), HTML(value='')))"
      ]
     },
     "metadata": {},
     "output_type": "display_data"
    },
    {
     "name": "stdout",
     "output_type": "stream",
     "text": [
      "\n",
      "\n"
     ]
    }
   ],
   "source": [
    "  \n",
    "pdf_files = []\n",
    "docx_files = []\n",
    "\n",
    "# append document names into the lists by their extension type\n",
    "for f in tqdm.tqdm_notebook(os.listdir(PATH)):\n",
    "  full_name = os.path.join(PATH, f) \n",
    "  if os.path.isfile(full_name):\n",
    "    name = os.path.basename(f)\n",
    "    filename, ext = os.path.splitext(name)\n",
    "    if ext == '.pdf':\n",
    "      pdf_files.append(name)\n",
    "    elif ext == ('.docx'):\n",
    "      docx_files.append(name)\n",
    "\n",
    "for i in tqdm.tqdm_notebook(range(len(pdf_files))):\n",
    "    try:\n",
    "          pdf_file = pdf_files[i]\n",
    "          pdf_extract(pdf_file, i)\n",
    "    except:\n",
    "        pass\n",
    "  \n",
    "    for f in os.listdir(PATH):\n",
    "        if '.ppm' in f:\n",
    "            os.remove(PATH+f)"
   ]
  },
  {
   "cell_type": "code",
   "execution_count": null,
   "metadata": {},
   "outputs": [],
   "source": []
  },
  {
   "cell_type": "code",
   "execution_count": null,
   "metadata": {},
   "outputs": [],
   "source": []
  }
 ],
 "metadata": {
  "kernelspec": {
   "display_name": "Python 3",
   "language": "python",
   "name": "python3"
  },
  "language_info": {
   "codemirror_mode": {
    "name": "ipython",
    "version": 3
   },
   "file_extension": ".py",
   "mimetype": "text/x-python",
   "name": "python",
   "nbconvert_exporter": "python",
   "pygments_lexer": "ipython3",
   "version": "3.7.8"
  }
 },
 "nbformat": 4,
 "nbformat_minor": 4
}
